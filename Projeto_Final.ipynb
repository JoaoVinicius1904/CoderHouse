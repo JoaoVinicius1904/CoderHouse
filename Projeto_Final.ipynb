{
 "cells": [
  {
   "cell_type": "code",
   "execution_count": 1,
   "metadata": {},
   "outputs": [],
   "source": [
    "import pandas as pd\n",
    "import requests\n",
    "from plyer import notification\n",
    "from datetime import datetime\n",
    "import sqlite3\n",
    "from tqdm import tqdm"
   ]
  },
  {
   "cell_type": "code",
   "execution_count": 2,
   "metadata": {},
   "outputs": [],
   "source": [
    "def alerta(nivel, base, etapa):\n",
    "    if nivel == 1:\n",
    "        titulo = \"Alerta Baixo\"\n",
    "    elif nivel == 2:\n",
    "        titulo = \"Alerta Médio\"\n",
    "    elif nivel == 3:\n",
    "        titulo = \"Alerta Alto\"\n",
    "    else:\n",
    "        titulo = \"Alerta Desconhecido\"\n",
    "\n",
    "    data_atual = datetime.now().strftime(\"%d/%m/%Y %H:%M:%S\")\n",
    "\n",
    "    mensagem = f\"Falha no carregamento da base {base} na etapa {etapa}\\nData: {data_atual}\"\n",
    "\n",
    "    notification.notify(\n",
    "        title=titulo,\n",
    "        message=mensagem,\n",
    "        timeout=20\n",
    "    )"
   ]
  },
  {
   "cell_type": "code",
   "execution_count": 3,
   "metadata": {},
   "outputs": [],
   "source": [
    "def salva_bd(df, nome_tabela):\n",
    "    conn = sqlite3.connect('data_pipeline.db')\n",
    "    df.to_sql(nome_tabela, conn, if_exists='replace', index=False)\n",
    "    conn.close()\n",
    "\n",
    "def carrega_bd(nome_tabela):\n",
    "    conn = sqlite3.connect('data_pipeline.db')\n",
    "    query = f\"SELECT * FROM {nome_tabela}\"\n",
    "    df = pd.read_sql(query, conn)\n",
    "    conn.close()\n",
    "    return df"
   ]
  },
  {
   "cell_type": "code",
   "execution_count": 4,
   "metadata": {},
   "outputs": [],
   "source": [
    "def get_json_api(url):\n",
    "    response = requests.get(url)\n",
    "    if response.status_code == 200:\n",
    "        return response.json()\n",
    "    else:\n",
    "        alerta(3, url, \"Requisição\", response.text)\n",
    "        raise Exception(f\"Erro na requisição: {response.status_code}\")\n",
    "\n",
    "def get_bancos():\n",
    "    url = \"https://brasilapi.com.br/api/banks/v1\"\n",
    "    data_json = get_json_api(url)\n",
    "    df_bancos = pd.DataFrame(data_json)\n",
    "    return df_bancos\n",
    "\n",
    "def get_pix_participants():\n",
    "    url = \"https://brasilapi.com.br/api/pix/v1/participants\"\n",
    "    data_json = get_json_api(url)\n",
    "    df_pix = pd.DataFrame(data_json)\n",
    "    return df_pix\n",
    "\n",
    "def get_taxas():\n",
    "    url = \"https://brasilapi.com.br/api/taxas/v1\"\n",
    "    data_json = get_json_api(url)\n",
    "    df_taxas = pd.DataFrame(data_json)\n",
    "    return df_taxas"
   ]
  },
  {
   "cell_type": "code",
   "execution_count": 5,
   "metadata": {},
   "outputs": [],
   "source": [
    "def etapa_extracao():\n",
    "    try:\n",
    "        df_bancos = get_bancos()\n",
    "        salva_bd(df_bancos, \"bancos\")\n",
    "        \n",
    "    except Exception as e:\n",
    "        alerta(3, \"bancos\", \"EXTRACAO\", str(e))\n",
    "\n",
    "    try:\n",
    "        df_pix = get_pix_participants()\n",
    "        salva_bd(df_pix, \"pix_participants\")\n",
    "    except Exception as e:\n",
    "        alerta(3, \"pix_participants\", \"EXTRACAO\", str(e))\n",
    "\n",
    "    try:\n",
    "        df_taxas = get_taxas()\n",
    "        salva_bd(df_taxas, \"taxas\")\n",
    "    except Exception as e:\n",
    "        alerta(3, \"taxas\", \"EXTRACAO\", str(e))"
   ]
  },
  {
   "cell_type": "code",
   "execution_count": 6,
   "metadata": {},
   "outputs": [],
   "source": [
    "def etapa_transformacao():\n",
    "    try:\n",
    "        df_bancos = carrega_bd(\"bancos\")\n",
    "        # Aqui você pode adicionar qualquer transformação necessária\n",
    "        salva_bd(df_bancos, \"bancos_transformados\")\n",
    "    except Exception as e:\n",
    "        alerta(2, \"bancos_transformados\", \"TRANSFORMACAO\", str(e))\n",
    "\n",
    "    try:\n",
    "        df_pix = carrega_bd(\"pix_participants\")\n",
    "        # Transformações específicas para df_pix\n",
    "        salva_bd(df_pix, \"pix_participants_transformados\")\n",
    "    except Exception as e:\n",
    "        alerta(2, \"pix_participants_transformados\", \"TRANSFORMACAO\", str(e))\n",
    "\n",
    "    try:\n",
    "        df_taxas = carrega_bd(\"taxas\")\n",
    "        # Transformações específicas para df_taxas\n",
    "        salva_bd(df_taxas, \"taxas_transformadas\")\n",
    "    except Exception as e:\n",
    "        alerta(2, \"taxas_transformadas\", \"TRANSFORMACAO\", str(e))"
   ]
  },
  {
   "cell_type": "code",
   "execution_count": 11,
   "metadata": {},
   "outputs": [],
   "source": [
    "etapa_extracao()"
   ]
  },
  {
   "cell_type": "code",
   "execution_count": 12,
   "metadata": {},
   "outputs": [],
   "source": [
    "etapa_transformacao()"
   ]
  },
  {
   "cell_type": "code",
   "execution_count": 20,
   "metadata": {},
   "outputs": [
    {
     "data": {
      "text/html": [
       "<div>\n",
       "<style scoped>\n",
       "    .dataframe tbody tr th:only-of-type {\n",
       "        vertical-align: middle;\n",
       "    }\n",
       "\n",
       "    .dataframe tbody tr th {\n",
       "        vertical-align: top;\n",
       "    }\n",
       "\n",
       "    .dataframe thead th {\n",
       "        text-align: right;\n",
       "    }\n",
       "</style>\n",
       "<table border=\"1\" class=\"dataframe\">\n",
       "  <thead>\n",
       "    <tr style=\"text-align: right;\">\n",
       "      <th></th>\n",
       "      <th>ispb</th>\n",
       "      <th>nome</th>\n",
       "      <th>nome_reduzido</th>\n",
       "      <th>modalidade_participacao</th>\n",
       "      <th>tipo_participacao</th>\n",
       "      <th>inicio_operacao</th>\n",
       "    </tr>\n",
       "  </thead>\n",
       "  <tbody>\n",
       "    <tr>\n",
       "      <th>0</th>\n",
       "      <td>00000000</td>\n",
       "      <td>BANCO DO BRASIL S.A.</td>\n",
       "      <td>BCO DO BRASIL S.A.</td>\n",
       "      <td>PDCT</td>\n",
       "      <td>DRCT</td>\n",
       "      <td>2020-11-03T09:30:00.000Z</td>\n",
       "    </tr>\n",
       "    <tr>\n",
       "      <th>1</th>\n",
       "      <td>00000208</td>\n",
       "      <td>BRB - BANCO DE BRASILIA S.A.</td>\n",
       "      <td>BRB - BCO DE BRASILIA S.A.</td>\n",
       "      <td>PDCT</td>\n",
       "      <td>DRCT</td>\n",
       "      <td>2020-11-03T09:30:00.000Z</td>\n",
       "    </tr>\n",
       "    <tr>\n",
       "      <th>2</th>\n",
       "      <td>00068987</td>\n",
       "      <td>COOPERATIVA DE CRÉDITO ARACREDI LTDA. - SICOOB...</td>\n",
       "      <td>CC ARACREDI LTDA.</td>\n",
       "      <td>PDCT</td>\n",
       "      <td>IDRT</td>\n",
       "      <td>2020-11-03T09:30:00.000Z</td>\n",
       "    </tr>\n",
       "    <tr>\n",
       "      <th>3</th>\n",
       "      <td>00075847</td>\n",
       "      <td>COOPERATIVA DE CRÉDITO UNICRED CENTRO-SUL LTDA...</td>\n",
       "      <td>CC UNICRED CENTRO-SUL LTDA - UNICRED CENTRO-SUL</td>\n",
       "      <td>PDCT</td>\n",
       "      <td>IDRT</td>\n",
       "      <td>2020-11-03T09:30:00.000Z</td>\n",
       "    </tr>\n",
       "    <tr>\n",
       "      <th>4</th>\n",
       "      <td>00106180</td>\n",
       "      <td>CENTRAL DAS COOPERATIVAS DE CRÉDITO DOS ESTADO...</td>\n",
       "      <td>CCC DOS EST DE MT, MS E MUN DE CACOAL/RO</td>\n",
       "      <td>PDCT</td>\n",
       "      <td>IDRT</td>\n",
       "      <td>2020-11-03T09:30:00.000Z</td>\n",
       "    </tr>\n",
       "  </tbody>\n",
       "</table>\n",
       "</div>"
      ],
      "text/plain": [
       "       ispb                                               nome  \\\n",
       "0  00000000                               BANCO DO BRASIL S.A.   \n",
       "1  00000208                       BRB - BANCO DE BRASILIA S.A.   \n",
       "2  00068987  COOPERATIVA DE CRÉDITO ARACREDI LTDA. - SICOOB...   \n",
       "3  00075847  COOPERATIVA DE CRÉDITO UNICRED CENTRO-SUL LTDA...   \n",
       "4  00106180  CENTRAL DAS COOPERATIVAS DE CRÉDITO DOS ESTADO...   \n",
       "\n",
       "                                     nome_reduzido modalidade_participacao  \\\n",
       "0                               BCO DO BRASIL S.A.                    PDCT   \n",
       "1                       BRB - BCO DE BRASILIA S.A.                    PDCT   \n",
       "2                                CC ARACREDI LTDA.                    PDCT   \n",
       "3  CC UNICRED CENTRO-SUL LTDA - UNICRED CENTRO-SUL                    PDCT   \n",
       "4         CCC DOS EST DE MT, MS E MUN DE CACOAL/RO                    PDCT   \n",
       "\n",
       "  tipo_participacao           inicio_operacao  \n",
       "0              DRCT  2020-11-03T09:30:00.000Z  \n",
       "1              DRCT  2020-11-03T09:30:00.000Z  \n",
       "2              IDRT  2020-11-03T09:30:00.000Z  \n",
       "3              IDRT  2020-11-03T09:30:00.000Z  \n",
       "4              IDRT  2020-11-03T09:30:00.000Z  "
      ]
     },
     "execution_count": 20,
     "metadata": {},
     "output_type": "execute_result"
    }
   ],
   "source": [
    "df = carrega_bd('pix_participants_transformados')\n",
    "df.head()"
   ]
  },
  {
   "cell_type": "code",
   "execution_count": 21,
   "metadata": {},
   "outputs": [
    {
     "data": {
      "text/plain": [
       "(834, 6)"
      ]
     },
     "execution_count": 21,
     "metadata": {},
     "output_type": "execute_result"
    }
   ],
   "source": [
    "df.shape"
   ]
  }
 ],
 "metadata": {
  "kernelspec": {
   "display_name": "Python 3",
   "language": "python",
   "name": "python3"
  },
  "language_info": {
   "codemirror_mode": {
    "name": "ipython",
    "version": 3
   },
   "file_extension": ".py",
   "mimetype": "text/x-python",
   "name": "python",
   "nbconvert_exporter": "python",
   "pygments_lexer": "ipython3",
   "version": "3.12.4"
  }
 },
 "nbformat": 4,
 "nbformat_minor": 2
}
